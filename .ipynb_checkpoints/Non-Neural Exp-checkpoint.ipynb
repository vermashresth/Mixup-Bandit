{
 "cells": [
  {
   "cell_type": "code",
   "execution_count": 1,
   "metadata": {},
   "outputs": [
    {
     "name": "stdout",
     "output_type": "stream",
     "text": [
      "Requirement already satisfied: contextualbandits in /usr/local/lib/python3.6/dist-packages (0.1.8.4)\n",
      "Requirement already satisfied: pandas in /usr/local/lib/python3.6/dist-packages (from contextualbandits) (0.25.0)\n",
      "Requirement already satisfied: joblib>=0.13 in /usr/local/lib/python3.6/dist-packages (from contextualbandits) (0.14.1)\n",
      "Requirement already satisfied: scipy in /usr/local/lib/python3.6/dist-packages (from contextualbandits) (1.3.0)\n",
      "Requirement already satisfied: numpy in /usr/local/lib/python3.6/dist-packages (from contextualbandits) (1.18.1)\n",
      "Requirement already satisfied: python-dateutil>=2.6.1 in /usr/local/lib/python3.6/dist-packages (from pandas->contextualbandits) (2.8.0)\n",
      "Requirement already satisfied: pytz>=2017.2 in /usr/local/lib/python3.6/dist-packages (from pandas->contextualbandits) (2019.1)\n",
      "Requirement already satisfied: six>=1.5 in /usr/local/lib/python3.6/dist-packages (from python-dateutil>=2.6.1->pandas->contextualbandits) (1.11.0)\n",
      "\u001b[33mWARNING: You are using pip version 19.2.1, however version 20.0.2 is available.\n",
      "You should consider upgrading via the 'pip install --upgrade pip' command.\u001b[0m\n"
     ]
    }
   ],
   "source": [
    "!pip install contextualbandits\n"
   ]
  },
  {
   "cell_type": "markdown",
   "metadata": {},
   "source": [
    "## Read The Data"
   ]
  },
  {
   "cell_type": "code",
   "execution_count": 2,
   "metadata": {},
   "outputs": [],
   "source": [
    "import pandas as pd, numpy as np, re\n",
    "from sklearn.preprocessing import MultiLabelBinarizer\n",
    "\n",
    "def parse_data(file_name):\n",
    "    features = list()\n",
    "    labels = list()\n",
    "    with open(file_name, 'rt') as f:\n",
    "        f.readline()\n",
    "        for l in f:\n",
    "            if bool(re.search(\"^[0-9]\", l)):\n",
    "                g = re.search(\"^(([0-9]{1,2},?)+)\\s(.*)$\", l)\n",
    "                labels.append([int(i) for i in g.group(1).split(\",\")])\n",
    "                features.append(eval(\"{\" + re.sub(\"\\s\", \",\", g.group(3)) + \"}\"))\n",
    "            else:\n",
    "                l = l.strip()\n",
    "                labels.append([])\n",
    "                features.append(eval(\"{\" + re.sub(\"\\s\", \",\", l) + \"}\"))\n",
    "    features = pd.DataFrame.from_dict(features).fillna(0).as_matrix()\n",
    "    mlb = MultiLabelBinarizer()\n",
    "    y = mlb.fit_transform(labels)\n",
    "    return features, y\n",
    "\n",
    "X, y = parse_data(\"Bibtex_data.txt\")"
   ]
  },
  {
   "cell_type": "markdown",
   "metadata": {},
   "source": [
    "## Define the models"
   ]
  },
  {
   "cell_type": "code",
   "execution_count": 32,
   "metadata": {},
   "outputs": [],
   "source": [
    "from sklearn.linear_model import LogisticRegression\n",
    "from contextualbandits.online import BootstrappedUCB, BootstrappedTS, SeparateClassifiers,\\\n",
    "            EpsilonGreedy, AdaptiveGreedy, ExploreFirst, ActiveExplorer, SoftmaxExplorer\n",
    "from copy import deepcopy\n",
    "\n",
    "nchoices = y.shape[1]\n",
    "base_algorithm = LogisticRegression(random_state=123, solver='lbfgs')\n",
    "beta_prior = ((3, 7), 2) # until there are at least 2 observations of each class, will use prior Beta(3, 7)\n",
    "\n",
    "## The base algorithm is embedded in different metaheuristics\n",
    "bootstrapped_ucb = BootstrappedUCB(deepcopy(base_algorithm), nchoices = nchoices, beta_prior=beta_prior)\n",
    "bootstrapped_ts = BootstrappedTS(deepcopy(base_algorithm), nchoices = nchoices, beta_prior=beta_prior)\n",
    "one_vs_rest = SeparateClassifiers(deepcopy(base_algorithm), nchoices = nchoices, beta_prior=beta_prior)\n",
    "epsilon_greedy = EpsilonGreedy(deepcopy(base_algorithm), nchoices = nchoices, beta_prior=beta_prior)\n",
    "epsilon_greedy_nodecay = EpsilonGreedy(deepcopy(base_algorithm), nchoices = nchoices,\n",
    "                                     beta_prior=beta_prior, decay=None)\n",
    "adaptive_greedy_thr = AdaptiveGreedy(deepcopy(base_algorithm), nchoices=nchoices,\n",
    "                                     decay_type='threshold')\n",
    "adaptive_greedy_perc = AdaptiveGreedy(deepcopy(base_algorithm), nchoices = nchoices, beta_prior=beta_prior,\n",
    "                                      decay_type='percentile', decay=0.9997)\n",
    "explore_first = ExploreFirst(deepcopy(base_algorithm), nchoices = nchoices,\n",
    "                             beta_prior=None, explore_rounds=1500)\n",
    "active_explorer = ActiveExplorer(deepcopy(base_algorithm), nchoices = nchoices, beta_prior=beta_prior)\n",
    "adaptive_active_greedy = AdaptiveGreedy(deepcopy(base_algorithm), nchoices = nchoices, beta_prior=beta_prior,\n",
    "                                        active_choice='weighted', decay_type='percentile', decay=0.9997)\n",
    "softmax_explorer = SoftmaxExplorer(deepcopy(base_algorithm), nchoices = nchoices, beta_prior=beta_prior)\n",
    "\n",
    "models_orig = [bootstrapped_ucb, bootstrapped_ts, one_vs_rest, epsilon_greedy, epsilon_greedy_nodecay,\n",
    "          adaptive_greedy_thr, adaptive_greedy_perc, explore_first, active_explorer,\n",
    "          adaptive_active_greedy, softmax_explorer]\n",
    "      \n",
    "models = [bootstrapped_ts, adaptive_greedy_thr, softmax_explorer, epsilon_greedy_nodecay]"
   ]
  },
  {
   "cell_type": "markdown",
   "metadata": {},
   "source": [
    "## Helper Functions"
   ]
  },
  {
   "cell_type": "code",
   "execution_count": 33,
   "metadata": {},
   "outputs": [],
   "source": [
    "#Normal Simulate round function\n",
    "def simulate_rounds(model, rewards, actions_hist, X_global, y_global, batch_st, batch_end, dummy):\n",
    "        np.random.seed(batch_st)\n",
    "\n",
    "        ## choosing actions for this batch\n",
    "        actions_this_batch = model.predict(X_global[batch_st:batch_end, :]).astype('uint8')\n",
    "        print(actions_this_batch, \"currenty action shape\")\n",
    "        # keeping track of the sum of rewards received\n",
    "        rewards.append(y_global[np.arange(batch_st, batch_end), actions_this_batch].sum())\n",
    "\n",
    "        # adding this batch to the history of selected actions\n",
    "        new_actions_hist = np.append(actions_hist, actions_this_batch)\n",
    "\n",
    "        # now refitting the algorithms after observing these new rewards\n",
    "        np.random.seed(batch_st)\n",
    "        model.fit(X_global[:batch_end, :], new_actions_hist, y_global[np.arange(batch_end), new_actions_hist])\n",
    "\n",
    "        return new_actions_hist\n",
    "    \n",
    "    \n",
    "#helper function for good permutation    \n",
    "def random_derangement(n):\n",
    "    while True:\n",
    "        v = range(n)\n",
    "        for j in range(n - 1, -1, -1):\n",
    "            p = random.randint(0, j)\n",
    "            if v[p] == j:\n",
    "                break\n",
    "            else:\n",
    "                v[j], v[p] = v[p], v[j]\n",
    "        else:\n",
    "            if v[0] != 0:\n",
    "                return tuple(v)\n",
    "                \n",
    "    \n",
    "def simulate_mixup_better_rounds(model, rewards, actions_hist, X_global, y_global, batch_st, batch_end, new_list):\n",
    "    np.random.seed(batch_st)\n",
    "    orig = X_global[batch_st:batch_end, :].copy()\n",
    "    index = random_derangement(len(orig))\n",
    "    shuffled = orig[index, :]\n",
    "    alpha = 1\n",
    "    lam = np.random.beta(alpha, alpha, size=batch_end-batch_st)\n",
    "    mix_contexts = np.array([ orig[i]*lam[i] + shuffled[i]*(1-lam[i]) if lam[i]> 0.5 else orig[i]*(1-lam[i]) + shuffled[i]*(lam[i]) for i in range(batch_end-batch_st)])\n",
    "    \n",
    "\n",
    "    maj_labels = np.array([y_global[batch_st+i] for i in range(batch_size)])\n",
    "    mix_labels = np.array([y_global[batch_st+i]*lam[i] + y_global[batch_st+index[i]]*(1-lam[i]) if lam[i]> 0.5 else y_global[batch_st+i]*(1-lam[i]) + y_global[batch_st+index[i]]*lam[i] for i in range(batch_end-batch_st)])\n",
    "\n",
    "    \n",
    "    ###########\n",
    "    # This part decided what to fit on\n",
    "    # Change this if needed\n",
    "    new_list[0].extend(mix_contexts)\n",
    "    new_list[1].extend(maj_labels)\n",
    "    ###########\n",
    "\n",
    "    ## choosing actions for this batch\n",
    "    actions_this_batch = model.predict(maj_contexts).astype('uint8')\n",
    "\n",
    "    # keeping track of the sum of rewards received\n",
    "    rewards.append(maj_labels[np.arange(batch_end-batch_st), actions_this_batch].sum())\n",
    "\n",
    "    # adding this batch to the history of selected actions\n",
    "    new_actions_hist = np.append(actions_hist, actions_this_batch)\n",
    "\n",
    "    # now refitting the algorithms after observing these new rewards\n",
    "    np.random.seed(batch_st)\n",
    "    model.fit(np.array(new_list[0])[:batch_end, :], new_actions_hist, np.array(new_list[1])[np.arange(batch_end), new_actions_hist].astype('uint8'))\n",
    "\n",
    "    return new_actions_hist\n",
    "    \n",
    "    \n",
    "def simulate_mixup_rounds(model, rewards, actions_hist, X_global, y_global, batch_st, batch_end, new_list):\n",
    "    np.random.seed(batch_st)\n",
    "    orig = X_global[batch_st:batch_end, :].copy()\n",
    "    index = np.arange(len(orig))\n",
    "    np.random.shuffle(index)\n",
    "    shuffled = orig[index, :]\n",
    "    alpha = 1\n",
    "    lam = np.random.beta(alpha, alpha, size=batch_size)\n",
    "    maj_contexts = np.array([ orig[i] if lam[i]> 0.5 else shuffled[i] for i in range(batch_end-batch_st)])\n",
    "    mix_contexts = np.array([ orig[i]*lam[i] + shuffled[i]*(1-lam[i]) for i in range(batch_end-batch_st)])\n",
    "\n",
    "    maj_labels = np.array([y_global[batch_st+i] if lam[i]>0.5 else y_global[batch_st+index[i]] for i in range(batch_end-batch_st)])\n",
    "    mix_labels = np.array([y_global[batch_st+i]*lam[i] + y_global[batch_st+index[i]]*(1-lam[i]) for i in range(batch_end-batch_st)])\n",
    "\n",
    "    ###########\n",
    "    # This part decided what to fit on\n",
    "    # Change this if needed\n",
    "    new_list[0].extend(mix_contexts)\n",
    "    new_list[1].extend(mix_labels)\n",
    "    ###########\n",
    "    \n",
    "    ## choosing actions for this batch\n",
    "    actions_this_batch = model.predict(maj_contexts).astype('uint8')\n",
    "\n",
    "    # keeping track of the sum of rewards received\n",
    "    rewards.append(maj_labels[np.arange(batch_end-batch_st), actions_this_batch].sum())\n",
    "\n",
    "    # adding this batch to the history of selected actions\n",
    "    new_actions_hist = np.append(actions_hist, actions_this_batch)\n",
    "\n",
    "    # now refitting the algorithms after observing these new rewards\n",
    "    np.random.seed(batch_st)\n",
    "    model.fit(np.array(new_list[0])[:batch_end, :], new_actions_hist, np.array(new_list[1])[np.arange(batch_end), new_actions_hist].astype('uint8'))\n",
    "\n",
    "    return new_actions_hist"
   ]
  },
  {
   "cell_type": "markdown",
   "metadata": {},
   "source": [
    "## Run experiments"
   ]
  },
  {
   "cell_type": "code",
   "execution_count": null,
   "metadata": {},
   "outputs": [
    {
     "name": "stdout",
     "output_type": "stream",
     "text": [
      "Exp no:  0 , Training batch:  0\n",
      "Exp no:  0 , Training batch:  10\n",
      "Exp no:  0 , Training batch:  20\n",
      "Exp no:  0 , Training batch:  30\n",
      "Exp no:  0 , Training batch:  40\n",
      "Exp no:  0 , Training batch:  50\n",
      "Exp no:  0 , Training batch:  60\n",
      "Exp no:  0 , Training batch:  70\n",
      "Exp no:  0 , Training batch:  80\n",
      "Exp no:  0 , Training batch:  90\n",
      "Exp no:  0 , Training batch:  100\n",
      "Exp no:  0 , Training batch:  110\n",
      "Exp no:  0 , Training batch:  120\n",
      "Exp no:  0 , Training batch:  130\n",
      "Exp no:  0 , Training batch:  140\n",
      "Exp no:  1 , Training batch:  0\n",
      "Exp no:  1 , Training batch:  10\n",
      "Exp no:  1 , Training batch:  20\n",
      "Exp no:  1 , Training batch:  30\n",
      "Exp no:  1 , Training batch:  40\n",
      "Exp no:  1 , Training batch:  50\n",
      "Exp no:  1 , Training batch:  60\n",
      "Exp no:  1 , Training batch:  70\n",
      "Exp no:  1 , Training batch:  80\n",
      "Exp no:  1 , Training batch:  90\n"
     ]
    }
   ],
   "source": [
    "# These lists will keep track of the rewards obtained by each policy\n",
    "bigbig=[]\n",
    "n_exp = 3\n",
    "import random\n",
    "for exp in range(n_exp):\n",
    "    rewards_ucb, rewards_ts, rewards_ovr, rewards_egr, rewards_egr2, \\\n",
    "    rewards_agr, rewards_agr2, rewards_efr, rewards_ac, \\\n",
    "    rewards_aac, rewards_sft = [list() for i in range(len(models_orig))]\n",
    "\n",
    "    lst_rewards = [rewards_ucb, rewards_ts, rewards_ovr, rewards_egr, rewards_egr2,\n",
    "                   rewards_agr, rewards_agr2, rewards_efr, rewards_ac,\n",
    "                   rewards_aac, rewards_sft]\n",
    "\n",
    "    # batch size - algorithms will be refit after N rounds\n",
    "    batch_size=50\n",
    "\n",
    "    # initial seed - all policies start with the same small random selection of actions/rewards\n",
    "    first_batch = X[:batch_size, :]\n",
    "    action_chosen = np.random.randint(nchoices, size=batch_size)\n",
    "    rewards_received = y[np.arange(batch_size), action_chosen]\n",
    "\n",
    "    # fitting models for the first time\n",
    "    for model in models:\n",
    "        np.random.seed(123)\n",
    "        model.fit(X=first_batch, a=action_chosen, r=rewards_received)\n",
    "\n",
    "    # these lists will keep track of which actions does each policy choose\n",
    "    lst_a_ucb, lst_a_ts, lst_a_ovr, lst_a_egr, lst_a_egr2, lst_a_agr, \\\n",
    "    lst_a_agr2, lst_a_efr, lst_a_ac, lst_a_aac, \\\n",
    "    lst_a_sft = [action_chosen.copy() for i in range(len(models_orig))]\n",
    "\n",
    "    lst_actions = [lst_a_ucb, lst_a_ts, lst_a_ovr, lst_a_egr, lst_a_egr2, lst_a_agr,\n",
    "                   lst_a_agr2, lst_a_efr, lst_a_ac, lst_a_aac, lst_a_sft]\n",
    "    \n",
    "    new_lists = [list(first_batch), list(y[:batch_size, :])]\n",
    "    for i in range(int(np.floor(X.shape[0] / batch_size))):\n",
    "        batch_st = (i + 1) * batch_size\n",
    "        batch_end = (i + 2) * batch_size\n",
    "        batch_end = np.min([batch_end, X.shape[0]])\n",
    "        \n",
    "        if i%10==0:\n",
    "                print(\"Exp no: \", exp, \", Training batch: \", i)\n",
    "        for model in range(len(models)):\n",
    "            lst_actions[model] = simulate_mixup_rounds(models[model],\n",
    "                                                 lst_rewards[model],\n",
    "                                                 lst_actions[model],\n",
    "                                                 X, y,\n",
    "                                                 batch_st, batch_end, new_lists)\n",
    "    bigbig.append(lst_rewards)"
   ]
  },
  {
   "cell_type": "markdown",
   "metadata": {},
   "source": [
    "## Save reward logs"
   ]
  },
  {
   "cell_type": "code",
   "execution_count": null,
   "metadata": {},
   "outputs": [],
   "source": [
    "import numpy as np\n",
    "np.save(\"log\", bigbig)"
   ]
  },
  {
   "cell_type": "markdown",
   "metadata": {},
   "source": [
    "## Visualize rewards"
   ]
  },
  {
   "cell_type": "code",
   "execution_count": 30,
   "metadata": {},
   "outputs": [
    {
     "data": {
      "image/png": "[encoded data removed]",
      "text/plain": [
       "<Figure size 432x288 with 1 Axes>"
      ]
     },
     "metadata": {
      "needs_background": "light"
     },
     "output_type": "display_data"
    }
   ],
   "source": [
    "import seaborn as sns\n",
    "import pandas as pd\n",
    "\n",
    "def get_mean_reward(reward_lst, batch_size=batch_size):\n",
    "    mean_rew=list()\n",
    "    for r in range(len(reward_lst)):\n",
    "        mean_rew.append(sum(reward_lst[:r+1]) * 1.0 / ((r+1)*batch_size))\n",
    "    return mean_rew\n",
    "\n",
    "df = pd.DataFrame({'timepoint':[], 'event':[], 'signal':[]})\n",
    "bignew = []\n",
    "for i in bigbig:\n",
    "    curves = []\n",
    "    for j in i:\n",
    "        curve = get_mean_reward(j)\n",
    "        curves.append(curve)\n",
    "    bignew.append(curves)\n",
    "np.array(bignew).shape\n",
    "\n",
    "for i, exp in enumerate(bignew):\n",
    "    for j, algo in enumerate(exp):\n",
    "        for k, reward in enumerate(algo):\n",
    "            df2 = pd.DataFrame({'timepoint':[k], 'event':[j], 'signal':[reward]})\n",
    "            df=df.append(df2)\n",
    "df\n",
    "\n",
    "ax = sns.lineplot(x=\"timepoint\", y=\"signal\", hue=\"event\",\n",
    "                  data=df)"
   ]
  },
  {
   "cell_type": "code",
   "execution_count": null,
   "metadata": {},
   "outputs": [],
   "source": []
  }
 ],
 "metadata": {
  "kernelspec": {
   "display_name": "Python 3",
   "language": "python",
   "name": "python3"
  },
  "language_info": {
   "codemirror_mode": {
    "name": "ipython",
    "version": 3
   },
   "file_extension": ".py",
   "mimetype": "text/x-python",
   "name": "python",
   "nbconvert_exporter": "python",
   "pygments_lexer": "ipython3",
   "version": "3.5.2"
  }
 },
 "nbformat": 4,
 "nbformat_minor": 2
}
